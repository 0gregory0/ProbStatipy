{
 "cells": [
  {
   "cell_type": "markdown",
   "metadata": {},
   "source": [
    "# Understanding Python Modules\n",
    "---\n",
    "\n",
    "It is possible to import code from other Python scripts and run them in your current working python file. This is especially helpful if you're working on a bigger project where you want to organize your code into multiple files and reuse code in those files.\n",
    "\n",
    "If the Python script you want to import is in the same directory as your current script, you just type import, followed by the name of the file **without** the *```.py```* extension.\n"
   ]
  },
  {
   "cell_type": "code",
   "execution_count": 2,
   "metadata": {},
   "outputs": [
    {
     "name": "stdout",
     "output_type": "stream",
     "text": [
      "21.705882352941178\n"
     ]
    }
   ],
   "source": [
    "import pystats_central\n",
    "\n",
    "ages = [20, 21, 20, 21, 22, 20, 21, 20, 23, 24, 19, 24, 24, 20, 26, 19, 25]\n",
    "print(pystats_central.get_mean(ages))"
   ]
  },
  {
   "cell_type": "markdown",
   "metadata": {},
   "source": [
    "In the same directory as this Jupyter Notebook is a Python file called pystats_central.py that has a few functions that measure central tendancy such as ```get_mean() ```, ```get_median``` and ```get_mode()```. It's easy for me to use one or more of these functions in this Jupyter Notebook simply by importing the Python file (pystats_central.py). pystats_central.py, the imported python file, is then called a ***module***.\n",
    "\n",
    "We import modules into our working Python files using import statements which are usually written at the top of a Python script; each one on a separate line.\n",
    "\n",
    "```python\n",
    "import pystats_central\n",
    "```\n",
    "\n",
    "Python will still run if imports statements are included later in the script, but it's best practice to always have these at the top for the following reasons:\n",
    "- You're only able to access what you've imported after the import statement.\n",
    "- It's also nice for readers to see what a script depends on before reading the rest of the code.\n",
    "\n",
    "After importing the module, I can call any of it's functions by following the format \"module.function()\". For example, I got the mean of ages by calling \"get_mean()\", however, I must specify where this function is as it is not a built in function and Python would not recognize it otherwise. To do this, I must call it with it's module name:\n",
    "\n",
    "```python\n",
    "pystats_central.get_mean(ages)\n",
    "```\n",
    "\n",
    "Typing out pystats_central over and over may be tedious but it's absolutely necessary as this is the only way Python will recognize the function being called. However, we can use an alias to shorten the name of the module so that it doesn't become annoying to type out long module names over and over again. We assign an alias using the ```as``` keyword."
   ]
  },
  {
   "cell_type": "code",
   "execution_count": 3,
   "metadata": {},
   "outputs": [
    {
     "name": "stdout",
     "output_type": "stream",
     "text": [
      "4.560553633217993\n"
     ]
    }
   ],
   "source": [
    "import pystats_spread as ps\n",
    "\n",
    "print(ps.get_variance(ages))"
   ]
  }
 ],
 "metadata": {
  "kernelspec": {
   "display_name": "Python 3",
   "language": "python",
   "name": "python3"
  },
  "language_info": {
   "codemirror_mode": {
    "name": "ipython",
    "version": 3
   },
   "file_extension": ".py",
   "mimetype": "text/x-python",
   "name": "python",
   "nbconvert_exporter": "python",
   "pygments_lexer": "ipython3",
   "version": "3.11.2"
  },
  "orig_nbformat": 4
 },
 "nbformat": 4,
 "nbformat_minor": 2
}
