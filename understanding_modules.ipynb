{
 "cells": [
  {
   "cell_type": "markdown",
   "metadata": {},
   "source": [
    "# Understanding Python Modules\n",
    "---\n",
    "\n",
    "It is possible to import code from other Python scripts and run them in your current working python file (The file you are currently writing). This is especially helpful if you're working on a bigger project where you want to organize your code into multiple files and reuse code in those files.\n",
    "\n",
    "If the Python script you want to import is in the same directory as your current script, you just type import, followed by the name of the file **without** the *```.py```* extension.\n"
   ]
  },
  {
   "cell_type": "code",
   "execution_count": 1,
   "metadata": {},
   "outputs": [
    {
     "name": "stdout",
     "output_type": "stream",
     "text": [
      "21.705882352941178\n"
     ]
    }
   ],
   "source": [
    "import pystats_central\n",
    "\n",
    "ages = [20, 21, 20, 21, 22, 20, 21, 20, 23, 24, 19, 24, 24, 20, 26, 19, 25]\n",
    "print(pystats_central.mean(ages))"
   ]
  },
  {
   "cell_type": "markdown",
   "metadata": {},
   "source": [
    "In the same directory as this Jupyter Notebook is a Python file called \"pystats_central.py\" that has a few functions that measure central tendancy such as ```mean() ```, ```median()``` and ```mode()```. It's easy for me to use one or more of these functions in this Jupyter Notebook simply by importing the Python file (pystats_central.py). pystats_central.py, the imported python file, is then called a ***module***.\n",
    "\n",
    "We import modules into our working Python files using import statements which are usually written at the top of a Python script; each one on a separate line.\n",
    "\n",
    "```python\n",
    "import pystats_central\n",
    "```\n",
    "\n",
    "Python will still run if imports statements are included later in the script, but it's best practice to always have these at the top for the following reasons:\n",
    "- You're only able to access what you've imported after the import statement.\n",
    "- It's also nice for readers to see what a script depends on before reading the rest of the code.\n",
    "\n",
    "After importing the module, I can call any of it's functions by following the format ```module.function()```. For example, I got the mean of ages by calling ```mean()```, however, I must specify where this function is as it is neither a built in function nor did I define it in my current working script, therefore, Python would not recognize it otherwise. To do this, I must call it with it's module name:\n",
    "\n",
    "```python\n",
    "pystats_central.get_mean(ages)\n",
    "```\n",
    "\n",
    "Typing out pystats_central over and over may be tedious but it's absolutely necessary as this is the only way Python will recognize the function being called. However, we can use an alias to shorten the name of the module so that it doesn't become annoying to type out long module names over and over again. We assign an alias using the ```as``` keyword."
   ]
  },
  {
   "cell_type": "code",
   "execution_count": 2,
   "metadata": {},
   "outputs": [
    {
     "name": "stdout",
     "output_type": "stream",
     "text": [
      "4.560553633217993\n"
     ]
    }
   ],
   "source": [
    "import pystats_spread as ps\n",
    "\n",
    "print(ps.variance(ages))"
   ]
  },
  {
   "cell_type": "markdown",
   "metadata": {},
   "source": [
    "Important point to note:\n",
    "If a module has executable code such as ```print(2 + 5)```, when imported, this code will be executed in your working file. To avoid this, we use the ```if __name__ == \"__main__\"``` code to write executable code in the module. If we don't want the executable code to run, then why write it in the first place? When we write functions in our modules, we may want to test them using executable code. To prevent these tests from being executed in our working python file, we include them under the ```if __name__ == \"__main__\"``` block as shown below:\n",
    "\n",
    "```python\n",
    "#pystats_central.py\n",
    "def mean(data: list):\n",
    "    \"\"\"Function: Gets the mean of a list of numbers and returns a float\"\"\"\n",
    "    mean = (sum(data))/len(data)\n",
    "    return mean\n",
    "\n",
    "if __name__ == \"__main__\":\n",
    "    salaries = [34500, 30700, 32900, 36000, 34100, 33800, 32500]\n",
    "    print(mean(salaries))\n",
    "\n",
    "#understanding_modules.py\n",
    "import pystats_central as pc\n",
    "\n",
    "ages = [20, 21, 20, 21, 22, 20, 21, 20, 23, 24, 19, 24, 24, 20, 26, 19, 25]\n",
    "print(pystats_central.mean(ages))\n",
    "```\n",
    "\n",
    "If we didn't include the ```if __name__ == \"__main__\"``` line in the \"pystats_central.py\" module, then when importing this module and running \"understanding_modules.py\", we'd also get the mean of salaries in the module, which, in this case is unwanted.\n",
    "\n",
    "You may be wondering what this ```if __name__ == \"__main__\"``` stuff is, why it works and how it works. The answer is simple. Python assigns the special built-in variable ```__name__``` to all your python files and assigns the string ```\"__main__\"``` to your working python file. From there, it's simple logic. \n",
    "```python\n",
    "if __name__ == \"__main__\"\n",
    "    #run this block of code\n",
    "```\n",
    "\n",
    "Another way this is done is by including the executable code in a function called ```main()``` and then calling this function if ```__name__ == \"__main__\"``` like so:\n",
    "\n",
    "```python\n",
    "#pystats_central.py\n",
    "def mean(data: list):\n",
    "    \"\"\"Function: Gets the mean of a list of numbers and returns a float\"\"\"\n",
    "    mean = (sum(data))/len(data)\n",
    "    return mean\n",
    "\n",
    "def main():\n",
    "    salaries = [34500, 30700, 32900, 36000, 34100, 33800, 32500]\n",
    "    print(mean(salaries))\n",
    "\n",
    "if __name__ == \"__main__\":\n",
    "    main()\n",
    "\n",
    "#understanding_modules.py\n",
    "import pystats_central as pc\n",
    "\n",
    "ages = [20, 21, 20, 21, 22, 20, 21, 20, 23, 24, 19, 24, 24, 20, 26, 19, 25]\n",
    "print(pystats_central.mean(ages))\n",
    "```\n",
    "\n",
    "This will still work if the function is called any other name, but it's industry practice to use ```main()```\n",
    "\n",
    "Now that you've learned how to import and use your own python modules, you are ready to interact with other people's modules. There's an entire library of modules that comes with installing python. Go and learn more about the [Python Standard Library](https://docs.python.org/3/library/index.html) and play around with a few modules."
   ]
  }
 ],
 "metadata": {
  "kernelspec": {
   "display_name": "Python 3",
   "language": "python",
   "name": "python3"
  },
  "language_info": {
   "codemirror_mode": {
    "name": "ipython",
    "version": 3
   },
   "file_extension": ".py",
   "mimetype": "text/x-python",
   "name": "python",
   "nbconvert_exporter": "python",
   "pygments_lexer": "ipython3",
   "version": "3.11.2"
  },
  "orig_nbformat": 4
 },
 "nbformat": 4,
 "nbformat_minor": 2
}
